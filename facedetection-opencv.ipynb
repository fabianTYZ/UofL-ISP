{
 "cells": [
  {
   "cell_type": "markdown",
   "metadata": {},
   "source": [
    "## Face Detection using Python and OpenCV"
   ]
  },
  {
   "cell_type": "markdown",
   "metadata": {},
   "source": [
    "### Introduction\n",
    "\n",
    "In this exercise we are going to use Python and OpenCV to do real-time face detection from a live stream via our webcam."
   ]
  },
  {
   "cell_type": "markdown",
   "metadata": {},
   "source": [
    "### Exercises\n",
    "\n",
    "**Very important: you need to run the code in your local machine for using the webcam.**\n",
    "\n",
    "**Exercise 1.1**: Download (or copy) this Jupyter notebook into your local machine.\n",
    "\n",
    "**Exercise 1.2**: Install in your local machine (if you haven't done it yet) OpenCV library\n",
    "\n",
    "            pip install opencv-python\n",
    "\n",
    "**Exercise 1.3**: Run and study the code *Face detection in Python using OpenCV*. \n",
    "\n",
    "**Exercise 1.4**: Cat face detection using OpenCV!"
   ]
  },
  {
   "cell_type": "markdown",
   "metadata": {},
   "source": [
    "### Exercise 1.3. Face detection in Python using OpenCV."
   ]
  },
  {
   "cell_type": "markdown",
   "metadata": {},
   "source": [
    "In this exercise, we are going to use the Haar Cascade Classifiers method for face detection. \n",
    "\n",
    "The Haar Cascade Classifiers method is basically a machine learning based approach where a cascade function is trained from a lot of images. The training data is stored in huge individual .xml files with a lot of feature sets. Each xml corresponds to a very specific type of use case.\n",
    "\n",
    "In this application, we are going to use a the file 'haarcascade_frontalface_default.xml' for face detection as our pre-trained model. You downloaded this file when you installed 'opencv-python'. If needed, you can download it again from the from the opencv github repository https://github.com/opencv/opencv/tree/master/data/haarcascades\n"
   ]
  },
  {
   "cell_type": "code",
   "execution_count": 1,
   "metadata": {},
   "outputs": [
    {
     "name": "stdout",
     "output_type": "stream",
     "text": [
      "\u001b[33mDEPRECATION: Configuring installation scheme with distutils config files is deprecated and will no longer work in the near future. If you are using a Homebrew or Linuxbrew Python, please see discussion at https://github.com/Homebrew/homebrew-core/issues/76621\u001b[0m\n",
      "Collecting opencv-python\n",
      "  Downloading opencv_python-4.5.5.62-cp36-abi3-macosx_10_15_x86_64.whl (46.0 MB)\n",
      "     |████████████████████████████████| 46.0 MB 4.0 MB/s            \n",
      "\u001b[?25hRequirement already satisfied: numpy>=1.17.3 in /usr/local/lib/python3.9/site-packages (from opencv-python) (1.20.3)\n",
      "Installing collected packages: opencv-python\n",
      "\u001b[33mDEPRECATION: Configuring installation scheme with distutils config files is deprecated and will no longer work in the near future. If you are using a Homebrew or Linuxbrew Python, please see discussion at https://github.com/Homebrew/homebrew-core/issues/76621\u001b[0m\n",
      "Successfully installed opencv-python-4.5.5.62\n",
      "\u001b[33mWARNING: You are using pip version 21.3.1; however, version 22.0.3 is available.\n",
      "You should consider upgrading via the '/usr/local/opt/python@3.9/bin/python3.9 -m pip install --upgrade pip' command.\u001b[0m\n",
      "Note: you may need to restart the kernel to use updated packages.\n"
     ]
    }
   ],
   "source": [
    "pip install opencv-python"
   ]
  },
  {
   "cell_type": "code",
   "execution_count": 1,
   "metadata": {},
   "outputs": [
    {
     "ename": "KeyboardInterrupt",
     "evalue": "",
     "output_type": "error",
     "traceback": [
      "\u001b[0;31m---------------------------------------------------------------------------\u001b[0m",
      "\u001b[0;31mKeyboardInterrupt\u001b[0m                         Traceback (most recent call last)",
      "\u001b[0;32m<ipython-input-1-6a30408c4b22>\u001b[0m in \u001b[0;36m<module>\u001b[0;34m\u001b[0m\n\u001b[1;32m     13\u001b[0m \u001b[0;31m# We start an infinite loop and keep reading frames from the webcam until we press 'q'\u001b[0m\u001b[0;34m\u001b[0m\u001b[0;34m\u001b[0m\u001b[0;34m\u001b[0m\u001b[0m\n\u001b[1;32m     14\u001b[0m \u001b[0;32mwhile\u001b[0m \u001b[0;32mTrue\u001b[0m\u001b[0;34m:\u001b[0m\u001b[0;34m\u001b[0m\u001b[0;34m\u001b[0m\u001b[0m\n\u001b[0;32m---> 15\u001b[0;31m     \u001b[0mret\u001b[0m\u001b[0;34m,\u001b[0m \u001b[0mimage\u001b[0m \u001b[0;34m=\u001b[0m \u001b[0mvideo\u001b[0m\u001b[0;34m.\u001b[0m\u001b[0mread\u001b[0m\u001b[0;34m(\u001b[0m\u001b[0;34m)\u001b[0m\u001b[0;34m\u001b[0m\u001b[0;34m\u001b[0m\u001b[0m\n\u001b[0m\u001b[1;32m     16\u001b[0m     \u001b[0;32mif\u001b[0m \u001b[0;32mnot\u001b[0m \u001b[0mret\u001b[0m\u001b[0;34m:\u001b[0m\u001b[0;34m\u001b[0m\u001b[0;34m\u001b[0m\u001b[0m\n\u001b[1;32m     17\u001b[0m         \u001b[0;32mcontinue\u001b[0m\u001b[0;34m\u001b[0m\u001b[0;34m\u001b[0m\u001b[0m\n",
      "\u001b[0;31mKeyboardInterrupt\u001b[0m: "
     ]
    }
   ],
   "source": [
    "# Face detection in Python using OpenCV\n",
    "\n",
    "# Import the OpenCV library\n",
    "import cv2\n",
    "\n",
    "# load our classifier.\n",
    "# Make sure that the path to the xml file is correct.\n",
    "face_cascade = cv2.CascadeClassifier(\"haarcascade_frontalface_default.xml\")\n",
    "\n",
    "# We use VideoCapture function to create the video capture object\n",
    "video = cv2.VideoCapture(0)\n",
    "\n",
    "# We start an infinite loop and keep reading frames from the webcam until we press 'q'\n",
    "while True:\n",
    "    ret, image = video.read()\n",
    "    if not ret:\n",
    "        continue\n",
    "\n",
    "    image = cv2.flip(image, 1)\n",
    "    \n",
    "    # For this face detection classifier to work, we need to convert the frame into greyscale\n",
    "    gray_image = cv2.cvtColor(image, cv2.COLOR_BGR2GRAY)\n",
    "    \n",
    "    # The gray image has been stored as a multidimensional numpy array. \n",
    "    # print(type(gray_image))\n",
    "\n",
    "    \n",
    "    # The detectMultiScale method is the one that will perform the face detection for us.\n",
    "    # scaleFactor specifies the factor by which the image is scaled down.\n",
    "    # For example, a scaleFactor of 1.10 will require less computation than a scaleFactor of 1.05.\n",
    "    # minNeighbors is a threshold value that specifies the minimum number of times a region has to be determined as a face.\n",
    "    # Experiment with different minNeighbors values!\n",
    "    \n",
    "    faces = face_cascade.detectMultiScale(gray_image, scaleFactor=1.10, minNeighbors=5)\n",
    "\n",
    "    # Print the dimensions and positions of the rectangles containing the faces\n",
    "    # print(faces)\n",
    "    \n",
    "    # We now draw a rectangle in the position (x,y), dimensions (w,h)\n",
    "    # in green color (0, 255, 0) with the border thickness = 1.\n",
    "    for(x, y, w, h) in faces:\n",
    "        cv2.rectangle(image, (x,y), (x+w, y+h), (0, 255, 0), 1)\n",
    "        \n",
    "    cv2.imshow('Face Detector', image)\n",
    "    \n",
    "    # Press 'q' to 'quit'\n",
    "    if cv2.waitKey(1) & 0xFF == ord(\"q\"):\n",
    "        break\n",
    "        \n",
    "video.release()\n",
    "cv2.destroyAllWindows()"
   ]
  },
  {
   "cell_type": "markdown",
   "metadata": {},
   "source": [
    "### Exercise 1.4. Cat face detection in Python using OpenCV."
   ]
  },
  {
   "cell_type": "markdown",
   "metadata": {},
   "source": [
    "Do you have a cat? There are also a bunch of other models from the opencv github repository https://github.com/opencv/opencv/tree/master/data/haarcascades that you might want to try out, such as the cat face detection (haarcascade_frontalcatface.xml)! "
   ]
  },
  {
   "cell_type": "markdown",
   "metadata": {},
   "source": [
    "Note: This lab is based on https://github.com/arindomjit/Face_Detector by Arindomjit Bhattacharjee."
   ]
  }
 ],
 "metadata": {
  "kernelspec": {
   "display_name": "Python 3",
   "language": "python",
   "name": "python3"
  },
  "language_info": {
   "codemirror_mode": {
    "name": "ipython",
    "version": 3
   },
   "file_extension": ".py",
   "mimetype": "text/x-python",
   "name": "python",
   "nbconvert_exporter": "python",
   "pygments_lexer": "ipython3",
   "version": "3.9.4"
  }
 },
 "nbformat": 4,
 "nbformat_minor": 4
}
