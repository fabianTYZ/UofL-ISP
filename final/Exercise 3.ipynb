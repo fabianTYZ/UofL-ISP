{
 "cells": [
  {
   "cell_type": "code",
   "execution_count": 1,
   "metadata": {},
   "outputs": [
    {
     "name": "stdout",
     "output_type": "stream",
     "text": [
      "/usr/bin/ffmpeg\r\n"
     ]
    }
   ],
   "source": [
    "# Download latest FFmpeg static build.\n",
    "exist = !which ffmpeg\n",
    "if not exist:\n",
    "  !curl https://johnvansickle.com/ffmpeg/releases/ffmpeg-release-amd64-static.tar.xz -o ffmpeg.tar.xz \\\n",
    "     && tar -xf ffmpeg.tar.xz && rm ffmpeg.tar.xz\n",
    "  ffmdir = !find . -iname ffmpeg-*-static\n",
    "  path = %env PATH\n",
    "  path = path + ':' + ffmdir[0]\n",
    "  %env PATH $path\n",
    "\n",
    "!which ffmpeg"
   ]
  },
  {
   "cell_type": "code",
   "execution_count": 2,
   "metadata": {},
   "outputs": [],
   "source": [
    "# imports for parsing ffprobe\n",
    "import subprocess as sp\n",
    "import shlex\n",
    "import json"
   ]
  },
  {
   "cell_type": "code",
   "execution_count": 3,
   "metadata": {},
   "outputs": [],
   "source": [
    "# specify path for films folder\n",
    "# this determines where the program looks for films and issues with them\n",
    "films_folder = \"Exercise3_Films\"\n",
    "\n",
    "# create a list of paths for the films\n",
    "import glob\n",
    "films = glob.glob(films_folder+\"/*\")\n",
    "\n",
    "# create list of film names\n",
    "from os import walk\n",
    "filmnames = next(walk(films_folder), (None, None, []))[2]  # [] if no file"
   ]
  },
  {
   "cell_type": "code",
   "execution_count": 4,
   "metadata": {},
   "outputs": [],
   "source": [
    "# log problem (line) in filmissues.txt\n",
    "def log_issue(text_to_append):\n",
    "    \"\"\"Append given text as a new line at the end of file\"\"\"\n",
    "    # Open the file in append & read mode ('a+')\n",
    "    # filmissues.txt placed in root dir\n",
    "    with open('filmissues.txt', \"a+\") as file_object:\n",
    "        # Move read cursor to the start of file.\n",
    "        file_object.seek(0)\n",
    "        # If file is not empty then append '\\n'\n",
    "        data = file_object.read(100)\n",
    "        if len(data) > 0:\n",
    "            file_object.write(\"\\n\")\n",
    "        # Append text at the end of file\n",
    "        file_object.write(text_to_append)"
   ]
  },
  {
   "cell_type": "code",
   "execution_count": 5,
   "metadata": {},
   "outputs": [],
   "source": [
    "# fills filmissues.txt for one film\n",
    "def check_specs(film, filmname):\n",
    "    # Execute ffprobe (to show streams), and get the output in JSON format\n",
    "    data = sp.run(shlex.split(f'ffprobe -loglevel error -show_streams -of json {film}'), capture_output=True).stdout\n",
    "\n",
    "    # Convert data from JSON string to dictionary\n",
    "    d = json.loads(data)\n",
    "    \n",
    "    log_issue(\"Problems with \" + filmname)\n",
    "    log_issue(\"\")\n",
    "    \n",
    "    if '.mp4' not in film:\n",
    "        log_issue(\"x Video Format (Container): \" + film.split(\".\",1)[1] )\n",
    "    # video codec\n",
    "    if d[\"streams\"][0][\"codec_name\"] != 'h264':\n",
    "        log_issue(\"x Video Codec: \" + d[\"streams\"][0][\"codec_name\"])\n",
    "    # frame rate\n",
    "    if d[\"streams\"][0][\"avg_frame_rate\"] != '25000/1001' and d[\"streams\"][0][\"avg_frame_rate\"] != '25/1':\n",
    "        log_issue(\"x Frame Rate: \" + d[\"streams\"][0][\"avg_frame_rate\"])\n",
    "    # aspect ratio\n",
    "    if d[\"streams\"][0][\"display_aspect_ratio\"] != '16:9':\n",
    "        log_issue(\"x Aspect Ratio: \" + d[\"streams\"][0][\"display_aspect_ratio\"])\n",
    "    # resolution\n",
    "    if d[\"streams\"][0][\"width\"] != 640 or d[\"streams\"][0][\"height\"] != 360:\n",
    "        log_issue(\"x Resolution: \" + str(d[\"streams\"][0][\"width\"]) + \"x\" + str(d[\"streams\"][0][\"height\"]))\n",
    "    # bit rate\n",
    "    if int(d[\"streams\"][0][\"bit_rate\"]) < 2000000 or  int(d[\"streams\"][0][\"bit_rate\"]) > 5000000:\n",
    "        log_issue(\"x Video Bit Rate: \" + d[\"streams\"][0][\"bit_rate\"])\n",
    "    # audio codec\n",
    "    if d[\"streams\"][1][\"codec_name\"] != 'aac':\n",
    "        log_issue(\"x Audio Codec: \" + d[\"streams\"][1][\"codec_name\"])\n",
    "    # audio bit rate\n",
    "    if int(d[\"streams\"][1][\"bit_rate\"]) > 256000:\n",
    "        log_issue(\"x Audio Bit Rate: \" + d[\"streams\"][1][\"bit_rate\"])\n",
    "    # audio channels\n",
    "    try: \n",
    "        if d[\"streams\"][1][\"channel_layout\"] != 'stereo':\n",
    "            log_issue(\"x Channel Layout: \" + d[\"streams\"][1][\"channel_layout\"])\n",
    "    except:\n",
    "        if d[\"streams\"][1][\"channels\"] != 2:\n",
    "            log_issue(\"x Channels: \" + d[\"streams\"][1][\"channels\"])\n",
    "    \n",
    "    log_issue(\"\")\n",
    "    log_issue(\"-----------------------------------\")\n",
    "    log_issue(\"\")"
   ]
  },
  {
   "cell_type": "code",
   "execution_count": 6,
   "metadata": {},
   "outputs": [],
   "source": [
    "# clears anything in filmissues.txt\n",
    "open(\"filmissues.txt\", \"w\").close()\n",
    "\n",
    "# loops over films in dir, uses check specs to populate filmissues.txt\n",
    "# filmissues.txt placed in root dir\n",
    "for i in range(len(films)):\n",
    "    check_specs(films[i], filmnames[i])"
   ]
  },
  {
   "cell_type": "code",
   "execution_count": 7,
   "metadata": {},
   "outputs": [],
   "source": [
    "# the full ffmpeg function\n",
    "\n",
    "# !ffmpeg -i Exercise3_Films/Cosmos_War_of_the_Planets.mp4 -aspect:v \"16:9\" -s '640x360' -c:v h264 -c:a aac -b:a 256K -b:v 3.5M -minrate:v 2M -maxrate:v 5M -ac 2 -r 25 output.mp4\n",
    "                            "
   ]
  },
  {
   "cell_type": "code",
   "execution_count": 8,
   "metadata": {},
   "outputs": [],
   "source": [
    "# fix movies\n",
    "def fix_format(film):\n",
    "    # Execute ffprobe (to show streams), and get the output in JSON format\n",
    "    data = sp.run(shlex.split(f'ffprobe -loglevel error -show_streams -of json {film}'), capture_output=True).stdout\n",
    "\n",
    "    # Convert data from JSON string to dictionary\n",
    "    d = json.loads(data)\n",
    "    \n",
    "    # ffcode builder list\n",
    "    ffcode = [f'ffmpeg -i {film}']\n",
    "    \n",
    "    # aspect ratio\n",
    "    if d[\"streams\"][0][\"display_aspect_ratio\"] != '16:9':\n",
    "        ffcode.append('-aspect:v \"16:9\"')\n",
    "    # resolution\n",
    "    if d[\"streams\"][0][\"width\"] != 640 or d[\"streams\"][0][\"height\"] != 360:\n",
    "        ffcode.append('-s \"640x360\"')\n",
    "        \n",
    "    # video codec\n",
    "    if d[\"streams\"][0][\"codec_name\"] != 'h264':\n",
    "        ffcode.append('-c:v h264')\n",
    "        \n",
    "    # audio codec\n",
    "    if d[\"streams\"][1][\"codec_name\"] != 'aac':\n",
    "        ffcode.append('-c:a aac')\n",
    "        \n",
    "    # audio bit rate\n",
    "    if int(d[\"streams\"][1][\"bit_rate\"]) > 256000:\n",
    "        ffcode.append('-b:a 256k')\n",
    "    \n",
    "    # video bit rate\n",
    "    if int(d[\"streams\"][0][\"bit_rate\"]) < 2000000 or  int(d[\"streams\"][0][\"bit_rate\"]) > 5000000:\n",
    "        ffcode.append('-b:v 3.5m -minrate:v 2m -maxrate:v 5m')\n",
    "        \n",
    "    # audio channels\n",
    "    try:\n",
    "        if d[\"streams\"][1][\"channel_layout\"] != 'stereo':\n",
    "            ffcode.append('-ac 2')\n",
    "    except:\n",
    "        if d[\"streams\"][1][\"channels\"] != 2:\n",
    "            ffcode.append('-ac 2')\n",
    "        \n",
    "    # frame rate\n",
    "    if d[\"streams\"][0][\"avg_frame_rate\"] != '25000/1001' and d[\"streams\"][0][\"avg_frame_rate\"] != '25/1':\n",
    "        ffcode.append('-r 25')\n",
    "    \n",
    "    # ensure container is mp4 and _formatOK is there\n",
    "    ffcode.append(film.split('.')[0] + '_formatOK' + '.mp4')\n",
    "    \n",
    "    # joing ffcode list\n",
    "    ffcode = ' '.join(ffcode)\n",
    "    \n",
    "    # subprocess call our ffmpeg line in shell\n",
    "    sp.call(ffcode, shell=True)"
   ]
  },
  {
   "cell_type": "code",
   "execution_count": 9,
   "metadata": {},
   "outputs": [
    {
     "name": "stdout",
     "output_type": "stream",
     "text": [
      "Exercise3_Films/Cosmos_War_of_the_Planets.mp4 done.\n",
      "Exercise3_Films/Last_man_on_earth_1964.mov done.\n",
      "Exercise3_Films/The_Hill_Gang_Rides_Again.mp4 done.\n",
      "Exercise3_Films/Voyage_to_the_Planet_of_Prehistoric_Women.mp4 done.\n",
      "Exercise3_Films/The_Gun_and_the_Pulpit.avi done.\n"
     ]
    }
   ],
   "source": [
    "# loops over films in dir, uses fix format to correct films\n",
    "# new films (_formatOK) placed in film folder\n",
    "for i in range(len(films)):\n",
    "    fix_format(films[i])\n",
    "    print(films[i] + \" done.\")"
   ]
  }
 ],
 "metadata": {
  "kernelspec": {
   "display_name": "Python 3",
   "language": "python",
   "name": "python3"
  },
  "language_info": {
   "codemirror_mode": {
    "name": "ipython",
    "version": 3
   },
   "file_extension": ".py",
   "mimetype": "text/x-python",
   "name": "python",
   "nbconvert_exporter": "python",
   "pygments_lexer": "ipython3",
   "version": "3.7.6"
  }
 },
 "nbformat": 4,
 "nbformat_minor": 4
}
