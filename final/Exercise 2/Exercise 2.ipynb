{
 "cells": [
  {
   "cell_type": "markdown",
   "metadata": {},
   "source": [
    "<h2>Rice Coding Compression<h2/>"
   ]
  },
  {
   "cell_type": "markdown",
   "metadata": {},
   "source": [
    "<p>We need certain modules for the application to function, especially for wav/byte/bit manipulation.</p>"
   ]
  },
  {
   "cell_type": "code",
   "execution_count": 3,
   "metadata": {},
   "outputs": [
    {
     "name": "stdout",
     "output_type": "stream",
     "text": [
      "Collecting bitstring\n",
      "  Downloading bitstring-3.1.9-py3-none-any.whl (38 kB)\n",
      "Installing collected packages: bitstring\n",
      "Successfully installed bitstring-3.1.9\n",
      "\u001b[33mWARNING: You are using pip version 21.1.2; however, version 22.0.4 is available.\n",
      "You should consider upgrading via the '/opt/conda/bin/python3 -m pip install --upgrade pip' command.\u001b[0m\n"
     ]
    }
   ],
   "source": [
    "!pip install bitstring\n",
    "\n",
    "import math\n",
    "import wave\n",
    "\n",
    "from bitstring import BitStream, BitArray"
   ]
  },
  {
   "cell_type": "markdown",
   "metadata": {},
   "source": [
    "<h3>Encode</h3>"
   ]
  },
  {
   "cell_type": "markdown",
   "metadata": {},
   "source": [
    "<p>The following code is the rice coding algorithm I made. It is used later for encoding the wav file.</p>"
   ]
  },
  {
   "cell_type": "code",
   "execution_count": 14,
   "metadata": {},
   "outputs": [],
   "source": [
    "# unary function for use in encode\n",
    "def unary(t):\n",
    "    y=[];\n",
    "    for i in range(t):\n",
    "        y.append('1')\n",
    "    y.append('0')\n",
    "    return ''.join(y)\n",
    "\n",
    "# rice encoding algorithm snippet\n",
    "def r_enc(S, K):\n",
    "\n",
    "    # find M\n",
    "    M = 2 ** K\n",
    "\n",
    "    # for S to be encoded, find:\n",
    "    # quotient q = int(S/M)\n",
    "    q = int(S//M)\n",
    "\n",
    "    # remainder r = SmoduloM\n",
    "    r = S%M\n",
    "    \n",
    "    # quotient code is q in unary\n",
    "    q_un = unary(q)\n",
    "\n",
    "    # remainder code is r in binary using K bits\n",
    "    # func to return x in n-bit binary\n",
    "    getbinary = lambda x, n: format(x, 'b').zfill(n)\n",
    "    r_bin = getbinary(r, K)\n",
    "\n",
    "    # codeword format <quotient code><remainder code>\n",
    "    codeword = q_un + r_bin\n",
    "    \n",
    "    return codeword"
   ]
  },
  {
   "cell_type": "markdown",
   "metadata": {},
   "source": [
    "<p>This code reads our wav file and returns a byte object.</p>"
   ]
  },
  {
   "cell_type": "code",
   "execution_count": 15,
   "metadata": {},
   "outputs": [],
   "source": [
    "# getting binary data from wav file \n",
    "w = wave.open('Exercise2_Files/Sound1.wav', 'rb')\n",
    "byte_data = w.readframes(w.getnframes())\n",
    "w.close()"
   ]
  },
  {
   "cell_type": "markdown",
   "metadata": {},
   "source": [
    "<p>We parse this byte object, encoding each byte (integer from 0-255) into bits as per the rice coding algorithm. For now, our results are stored as a list bits (each a result of r_enc).</p>"
   ]
  },
  {
   "cell_type": "code",
   "execution_count": 16,
   "metadata": {},
   "outputs": [],
   "source": [
    "# bytes to bitstrings\n",
    "bits = []\n",
    "for byte in byte_data:\n",
    "    bits.append(r_enc(byte, 4))"
   ]
  },
  {
   "cell_type": "markdown",
   "metadata": {},
   "source": [
    "<p>Create an ex2 file to store our bits in. We use the join method to store one large bit string, separated by a space so we can split it later for decoding.</p>"
   ]
  },
  {
   "cell_type": "code",
   "execution_count": 17,
   "metadata": {},
   "outputs": [],
   "source": [
    "# encode and write to ex2 file\n",
    "with open(\"Exercise2_Files/Sound1_Enc.ex2\", \"w\") as f:\n",
    "    # Writing data to a file\n",
    "    f.write(' '.join(bits))"
   ]
  },
  {
   "cell_type": "markdown",
   "metadata": {},
   "source": [
    "<p>Encoding of the wav file and saving as an ex2 completed.</p>"
   ]
  },
  {
   "cell_type": "markdown",
   "metadata": {},
   "source": [
    "<h3>Decode</h3>"
   ]
  },
  {
   "cell_type": "markdown",
   "metadata": {},
   "source": [
    "<p>This is my decoder using the rice algorithm.</p>"
   ]
  },
  {
   "cell_type": "code",
   "execution_count": 22,
   "metadata": {},
   "outputs": [],
   "source": [
    "# rice decoding algorithm snippet\n",
    "def r_dec(codeword, K):\n",
    "    cdw = list(codeword)\n",
    "    \n",
    "    # q by counting 1's before first 0\n",
    "    q = 0\n",
    "    \n",
    "    for i in cdw:\n",
    "        if i == '1':\n",
    "            q += 1\n",
    "        else:\n",
    "            break\n",
    "    \n",
    "    # r reading next K bits as binary value\n",
    "    r = ''.join(cdw[q:])\n",
    "    r_int = int(r, 2)\n",
    "    \n",
    "    M = 2 ** K\n",
    "    \n",
    "    # S, encoded number, as q x M + r\n",
    "    S = q * M + r_int\n",
    "    \n",
    "    return S"
   ]
  },
  {
   "cell_type": "markdown",
   "metadata": {},
   "source": [
    "<p>Parsing the ex2 file using the split method, append each bit block to an array.</p>"
   ]
  },
  {
   "cell_type": "code",
   "execution_count": 23,
   "metadata": {},
   "outputs": [],
   "source": [
    "bitsagain = []\n",
    "    \n",
    "with open(\"Exercise2_Files/Sound1_Enc.ex2\", \"r\") as fd:\n",
    "    bitsagain = fd.read().split(' ')"
   ]
  },
  {
   "cell_type": "markdown",
   "metadata": {},
   "source": [
    "<p>Decode_blocklist takes this array, and a K value for the rice algorithm and returns a list of our original bytes.</p>"
   ]
  },
  {
   "cell_type": "code",
   "execution_count": 24,
   "metadata": {},
   "outputs": [],
   "source": [
    "def decode_blocklist(blocklist, K):\n",
    "    nums = []\n",
    "        \n",
    "    for block in blocklist:\n",
    "        nums.append(r_dec(block, K))\n",
    "\n",
    "    return nums"
   ]
  },
  {
   "cell_type": "markdown",
   "metadata": {},
   "source": [
    "<p>Store our decoded list as a variable for later.</p>"
   ]
  },
  {
   "cell_type": "code",
   "execution_count": 25,
   "metadata": {},
   "outputs": [],
   "source": [
    "# decoded list of integers from bitstring\n",
    "decbits = decode_blocklist(bitsagain, 4)"
   ]
  },
  {
   "cell_type": "markdown",
   "metadata": {},
   "source": [
    "<p>Conversion of this list back to a bytes object. We can check this to be true.</p>"
   ]
  },
  {
   "cell_type": "code",
   "execution_count": 26,
   "metadata": {},
   "outputs": [
    {
     "data": {
      "text/plain": [
       "bytes"
      ]
     },
     "execution_count": 26,
     "metadata": {},
     "output_type": "execute_result"
    }
   ],
   "source": [
    "# conversion of int list to bytes\n",
    "bytesagain = bytes(decbits)\n",
    "type(bytesagain)"
   ]
  },
  {
   "cell_type": "markdown",
   "metadata": {},
   "source": [
    "<p>Let's confirm the equivalency of the original bytes object from reading our wav file, to the output of the r_dec -> bytes() process.</p>"
   ]
  },
  {
   "cell_type": "code",
   "execution_count": 27,
   "metadata": {
    "scrolled": true
   },
   "outputs": [
    {
     "data": {
      "text/plain": [
       "True"
      ]
     },
     "execution_count": 27,
     "metadata": {},
     "output_type": "execute_result"
    }
   ],
   "source": [
    "# equivalency check of files\n",
    "bytesagain == byte_data"
   ]
  },
  {
   "cell_type": "markdown",
   "metadata": {},
   "source": [
    "<p>Let us then write the result back to a wav file, tagged with 'Dec'.</p>"
   ]
  },
  {
   "cell_type": "code",
   "execution_count": 14,
   "metadata": {},
   "outputs": [],
   "source": [
    "with open('Exercise2_Files/Sound1_Enc_Dec.wav', mode='bx') as f:\n",
    "    f.write(bytesagain)"
   ]
  },
  {
   "cell_type": "markdown",
   "metadata": {},
   "source": [
    "<p>Observing both wav files in the directory, we also see they are identical in size.</p>"
   ]
  },
  {
   "cell_type": "markdown",
   "metadata": {},
   "source": [
    "<p>Decoding and equivalency check complete.</p>"
   ]
  },
  {
   "cell_type": "markdown",
   "metadata": {},
   "source": [
    "<h3>Finding the Optimal K</h3>"
   ]
  },
  {
   "cell_type": "markdown",
   "metadata": {},
   "source": [
    "<p>We will attempt to find the optimal K. The steps and results are detailed in the report.</p>"
   ]
  },
  {
   "cell_type": "markdown",
   "metadata": {},
   "source": [
    "<p>We see K = 7 can represent 255 in  bits, and 1 in 8. Let us select 7 as our K.</p>"
   ]
  },
  {
   "cell_type": "code",
   "execution_count": 58,
   "metadata": {},
   "outputs": [
    {
     "data": {
      "text/plain": [
       "9"
      ]
     },
     "execution_count": 58,
     "metadata": {},
     "output_type": "execute_result"
    }
   ],
   "source": [
    "len(r_enc(255, 7))"
   ]
  },
  {
   "cell_type": "code",
   "execution_count": 67,
   "metadata": {},
   "outputs": [
    {
     "data": {
      "text/plain": [
       "8"
      ]
     },
     "execution_count": 67,
     "metadata": {},
     "output_type": "execute_result"
    }
   ],
   "source": [
    "len(r_enc(1, 7))"
   ]
  },
  {
   "cell_type": "markdown",
   "metadata": {},
   "source": [
    "<p>Open our Sound2.wav file as a byte object for compressing.</p>"
   ]
  },
  {
   "cell_type": "code",
   "execution_count": 62,
   "metadata": {},
   "outputs": [],
   "source": [
    "# getting binary data from wav file \n",
    "w = wave.open('Exercise2_Files/Sound2.wav', 'rb')\n",
    "byte_data2 = w.readframes(w.getnframes())\n",
    "w.close()"
   ]
  },
  {
   "cell_type": "markdown",
   "metadata": {},
   "source": [
    "<p>Convert our Sound1.wav bytes using r_enc.</p>"
   ]
  },
  {
   "cell_type": "code",
   "execution_count": 63,
   "metadata": {},
   "outputs": [],
   "source": [
    "# bytes to bitstrings\n",
    "bits2 = []\n",
    "for byte in byte_data:\n",
    "    bits2.append(r_enc(byte, 7))"
   ]
  },
  {
   "cell_type": "markdown",
   "metadata": {},
   "source": [
    "<p>Convert our Sound2.wav bytes using r_enc.</p>"
   ]
  },
  {
   "cell_type": "code",
   "execution_count": 64,
   "metadata": {},
   "outputs": [],
   "source": [
    "# bytes to bitstrings\n",
    "bits3 = []\n",
    "for byte in byte_data2:\n",
    "    bits3.append(r_enc(byte, 7))"
   ]
  },
  {
   "cell_type": "markdown",
   "metadata": {},
   "source": [
    "<p>Write results of Sound1.wav encode to file.</p>"
   ]
  },
  {
   "cell_type": "code",
   "execution_count": 65,
   "metadata": {},
   "outputs": [],
   "source": [
    "# encode and write to ex2 file\n",
    "with open(\"Exercise2_Files/Sound1_K7_Enc.ex2\", \"w\") as f:\n",
    "    # Writing data to a file\n",
    "    f.write(' '.join(bits2))"
   ]
  },
  {
   "cell_type": "markdown",
   "metadata": {},
   "source": [
    "<p>Write results of Sound2.wav encode to file.</p>"
   ]
  },
  {
   "cell_type": "code",
   "execution_count": 66,
   "metadata": {},
   "outputs": [],
   "source": [
    "# encode and write to ex2 file\n",
    "with open(\"Exercise2_Files/Sound2_K7_Enc.ex2\", \"w\") as f:\n",
    "    # Writing data to a file\n",
    "    f.write(' '.join(bits3))"
   ]
  },
  {
   "cell_type": "markdown",
   "metadata": {},
   "source": [
    "<p>The compression results can be seen in the report.</p>"
   ]
  }
 ],
 "metadata": {
  "kernelspec": {
   "display_name": "Python 3",
   "language": "python",
   "name": "python3"
  },
  "language_info": {
   "codemirror_mode": {
    "name": "ipython",
    "version": 3
   },
   "file_extension": ".py",
   "mimetype": "text/x-python",
   "name": "python",
   "nbconvert_exporter": "python",
   "pygments_lexer": "ipython3",
   "version": "3.7.6"
  }
 },
 "nbformat": 4,
 "nbformat_minor": 4
}
